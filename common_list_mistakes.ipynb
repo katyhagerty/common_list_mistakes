{
 "cells": [
  {
   "cell_type": "code",
   "execution_count": 3,
   "id": "55e726e0",
   "metadata": {
    "scrolled": true
   },
   "outputs": [
    {
     "name": "stdout",
     "output_type": "stream",
     "text": [
      "[1, 2, 3, 4]\n"
     ]
    }
   ],
   "source": [
    "original = [1, 2, 3]\n",
    "new_copy = original\n",
    "new_copy.append(4)\n",
    "\n",
    "print(original)"
   ]
  },
  {
   "cell_type": "code",
   "execution_count": 4,
   "id": "26c270fa",
   "metadata": {
    "scrolled": true
   },
   "outputs": [
    {
     "data": {
      "text/plain": [
       "140712118268928"
      ]
     },
     "execution_count": 4,
     "metadata": {},
     "output_type": "execute_result"
    }
   ],
   "source": [
    "id(original)"
   ]
  },
  {
   "cell_type": "code",
   "execution_count": 5,
   "id": "4aa20ebd",
   "metadata": {
    "scrolled": false
   },
   "outputs": [
    {
     "data": {
      "text/plain": [
       "140712118268928"
      ]
     },
     "execution_count": 5,
     "metadata": {},
     "output_type": "execute_result"
    }
   ],
   "source": [
    "id(new_copy)"
   ]
  },
  {
   "cell_type": "code",
   "execution_count": 6,
   "id": "dd6c486b",
   "metadata": {
    "scrolled": true
   },
   "outputs": [
    {
     "name": "stdout",
     "output_type": "stream",
     "text": [
      "original: [4, 5, 6]\n",
      "proper_copy: [4, 5, 6, 7]\n"
     ]
    }
   ],
   "source": [
    "original = [4, 5, 6]\n",
    "proper_copy = original.copy()\n",
    "proper_copy.append(7)\n",
    "\n",
    "print(f'original: {original}')\n",
    "print(f'proper_copy: {proper_copy}')"
   ]
  },
  {
   "cell_type": "code",
   "execution_count": 7,
   "id": "715a712c",
   "metadata": {},
   "outputs": [
    {
     "data": {
      "text/plain": [
       "140712118270848"
      ]
     },
     "execution_count": 7,
     "metadata": {},
     "output_type": "execute_result"
    }
   ],
   "source": [
    "id(original)"
   ]
  },
  {
   "cell_type": "code",
   "execution_count": 8,
   "id": "8e69a2f5",
   "metadata": {
    "scrolled": false
   },
   "outputs": [
    {
     "data": {
      "text/plain": [
       "140712118270144"
      ]
     },
     "execution_count": 8,
     "metadata": {},
     "output_type": "execute_result"
    }
   ],
   "source": [
    "id(proper_copy)"
   ]
  },
  {
   "cell_type": "code",
   "execution_count": 14,
   "id": "ecd9636c",
   "metadata": {
    "scrolled": true
   },
   "outputs": [
    {
     "name": "stdout",
     "output_type": "stream",
     "text": [
      "Loop 1\n",
      "num: zero\n",
      "nums: ['zero', 'one', 'two', 'three', 'four']\n",
      "\n",
      "Loop 2\n",
      "num: one\n",
      "nums: ['zero', 'one', 'two', 'three', 'four']\n",
      "\n",
      "Loop 3\n",
      "num: two\n",
      "nums: ['zero', 'one', 'three', 'four']\n",
      "\n",
      "Loop 4\n",
      "num: four\n",
      "nums: ['zero', 'one', 'three', 'four']\n",
      "\n"
     ]
    }
   ],
   "source": [
    "nums = ['zero', 'one', 'two', 'three', 'four']\n",
    "counter = 0\n",
    "for num in nums:\n",
    "    if num.startswith('t'):\n",
    "        nums.remove(num)\n",
    "    counter += 1\n",
    "    \n",
    "    print(f'Loop {counter}')    \n",
    "    print(f'num: {num}')\n",
    "    print(f'nums: {nums}')\n",
    "    print(\"\")"
   ]
  },
  {
   "cell_type": "code",
   "execution_count": 69,
   "id": "76c9fce2",
   "metadata": {},
   "outputs": [
    {
     "name": "stdout",
     "output_type": "stream",
     "text": [
      "2.42 µs ± 793 ns per loop (mean ± std. dev. of 7 runs, 100000 loops each)\n"
     ]
    }
   ],
   "source": [
    "%%timeit\n",
    "\n",
    "nums = ['zero', 'one', 'two', 'three', 'four', 'five', 'six', 'seven', 'eight', 'nine']\n",
    "copy_nums = nums.copy()\n",
    "\n",
    "for num in copy_nums:\n",
    "    if num.startswith('t'):\n",
    "        nums.remove(num)\n",
    "        \n",
    "# print(nums)"
   ]
  },
  {
   "cell_type": "code",
   "execution_count": 70,
   "id": "e422bfcc",
   "metadata": {
    "scrolled": true
   },
   "outputs": [
    {
     "name": "stdout",
     "output_type": "stream",
     "text": [
      "2.23 µs ± 22.6 ns per loop (mean ± std. dev. of 7 runs, 100000 loops each)\n"
     ]
    }
   ],
   "source": [
    "%%timeit\n",
    "\n",
    "nums = ['zero', 'one', 'two', 'three', 'four','five', 'six', 'seven', 'eight', 'nine']\n",
    "copy_nums = nums.copy()\n",
    "\n",
    "nums = [nums.remove(num) for num in copy_nums if  num.startswith('t')]"
   ]
  },
  {
   "cell_type": "code",
   "execution_count": 217,
   "id": "bed64481",
   "metadata": {
    "scrolled": true
   },
   "outputs": [
    {
     "name": "stdout",
     "output_type": "stream",
     "text": [
      "391 µs ± 18.2 µs per loop (mean ± std. dev. of 7 runs, 1000 loops each)\n"
     ]
    }
   ],
   "source": [
    "%%timeit\n",
    "\n",
    "squares = []\n",
    "for num in range(0, 1000):\n",
    "    squares.append(num**2)"
   ]
  },
  {
   "cell_type": "code",
   "execution_count": 218,
   "id": "a552b92d",
   "metadata": {
    "scrolled": false
   },
   "outputs": [
    {
     "name": "stdout",
     "output_type": "stream",
     "text": [
      "366 µs ± 22.7 µs per loop (mean ± std. dev. of 7 runs, 1000 loops each)\n"
     ]
    }
   ],
   "source": [
    "%%timeit\n",
    "\n",
    "squares = [num**2 for num in range(0, 1000)]"
   ]
  },
  {
   "cell_type": "code",
   "execution_count": 201,
   "id": "32379718",
   "metadata": {
    "scrolled": false
   },
   "outputs": [],
   "source": [
    "averages = []\n",
    "for i in range(1, 1000, 10):\n",
    "    result = %timeit -n 1000 -o -q c_sum = [num**2 for num in range(0, i)]\n",
    "    averages.append(result.average)"
   ]
  },
  {
   "cell_type": "code",
   "execution_count": 202,
   "id": "78630be9",
   "metadata": {},
   "outputs": [],
   "source": [
    "averages1 = []\n",
    "def f(x):\n",
    "    squares = []\n",
    "    for j in range(0, x):\n",
    "        squares.append(j**2)\n",
    "        \n",
    "for i in range(1, 1000, 10):\n",
    "    result = %timeit -n 1000 -o -q f(i)\n",
    "    averages1.append(result.average)\n",
    "        "
   ]
  },
  {
   "cell_type": "code",
   "execution_count": 212,
   "id": "e64268c0",
   "metadata": {},
   "outputs": [
    {
     "data": {
      "text/plain": [
       "Text(0, 0.5, 'Average Loop Time (s)')"
      ]
     },
     "execution_count": 212,
     "metadata": {},
     "output_type": "execute_result"
    },
    {
     "data": {
      "image/png": "[encoded data removed]",
      "text/plain": [
       "<Figure size 432x288 with 1 Axes>"
      ]
     },
     "metadata": {},
     "output_type": "display_data"
    }
   ],
   "source": [
    "import seaborn as sns\n",
    "# sns.set()\n",
    "ax = sns.lineplot(x = range(1, 1000, 10), y = averages, label = 'List Comprehension')\n",
    "ax = sns.lineplot(x = range(1, 1000, 10), y = averages1, label = 'For Loop')\n",
    "# ax.set_xlim([0, 300])\n",
    "# ax.set_ylim([0, .0001])\n",
    "ax.set_xlabel('List Length')\n",
    "ax.set_ylabel('Average Loop Time (s)')"
   ]
  }
 ],
 "metadata": {
  "kernelspec": {
   "display_name": "Python 3 (ipykernel)",
   "language": "python",
   "name": "python3"
  },
  "language_info": {
   "codemirror_mode": {
    "name": "ipython",
    "version": 3
   },
   "file_extension": ".py",
   "mimetype": "text/x-python",
   "name": "python",
   "nbconvert_exporter": "python",
   "pygments_lexer": "ipython3",
   "version": "3.8.5"
  }
 },
 "nbformat": 4,
 "nbformat_minor": 5
}
